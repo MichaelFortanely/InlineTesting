{
 "cells": [
  {
   "cell_type": "code",
   "execution_count": 124,
   "metadata": {},
   "outputs": [],
   "source": [
    "from sklearn import tree\n",
    "import pandas as pd \n",
    "from sklearn.model_selection import train_test_split\n",
    "import numpy as np\n",
    "from sklearn.metrics import accuracy_score, log_loss"
   ]
  },
  {
   "cell_type": "code",
   "execution_count": 139,
   "metadata": {},
   "outputs": [
    {
     "name": "stdout",
     "output_type": "stream",
     "text": [
      "Accuracy: 0.9483500717360115\n",
      "Entropy: 1.8616521119199676\n",
      "394 -> true: 1 pred: 1\n",
      "1262 -> true: 1 pred: 1\n",
      "2329 -> true: 1 pred: 1\n",
      "529 -> true: 1 pred: 1\n"
     ]
    }
   ],
   "source": [
    "# get data set\n",
    "train = pd.read_csv(\"./example.csv\", index_col=0)\n",
    "train.columns = train.columns.astype(str)\n",
    "train = train.fillna(0)\n",
    "# print(train)\n",
    "\n",
    "train.to_csv(\"inline_features.csv\", index = False)\n",
    "\n",
    "Y = train.isLOI\n",
    "X = train.drop(columns = ['isLOI', 'line_number', 'line'])\n",
    "\n",
    "X_train, X_test, y_train, y_test = train_test_split(X, Y, test_size = 0.2, random_state = 42)\n",
    "clf = tree.DecisionTreeClassifier()\n",
    "clf = clf.fit(X_train, y_train)\n",
    "\n",
    "test_preds = clf.predict(X_test)\n",
    "test_file = pd.DataFrame({\"Test Id\": X_test[X_test.columns[0]], \"Line of Interest\":test_preds})\n",
    "test_file.to_csv(\"inline_test_sol.csv\", index = False)\n",
    "\n",
    "# results\n",
    "print(\"Accuracy:\", accuracy_score(y_test, test_preds))\n",
    "print(\"Entropy:\", log_loss(y_test, test_preds))\n",
    "\n",
    "# for tp in y_test:\n",
    "#     if(tp == 1):\n",
    "#         print(tp)\n",
    "y_test_idx = y_test.index\n",
    "idx = 0\n",
    "for pd_idx in y_test_idx:\n",
    "    if((y_test[pd_idx] == 1) and (y_test[pd_idx] == test_preds[idx])):\n",
    "        print(pd_idx, \"->\", \"true:\", y_test[pd_idx], \"pred:\", test_preds[idx])\n",
    "    idx += 1"
   ]
  },
  {
   "cell_type": "code",
   "execution_count": 135,
   "metadata": {},
   "outputs": [
    {
     "name": "stdout",
     "output_type": "stream",
     "text": [
      "      isLOI\n",
      "2458      0\n",
      "1115      0\n",
      "1299      0\n",
      "1443      0\n",
      "1666      0\n",
      "...     ...\n",
      "2145      0\n",
      "1227      0\n",
      "548       0\n",
      "2303      0\n",
      "3056      0\n",
      "\n",
      "[697 rows x 1 columns]\n",
      "      is_keyword  length  is_regular_expression  is_mathematical_calculation  \\\n",
      "2458           0       5                      0                            0   \n",
      "1115           0      59                      0                            0   \n",
      "1299           0      45                      0                            0   \n",
      "1443           0      32                      0                            0   \n",
      "1666           1      28                      0                            1   \n",
      "...          ...     ...                    ...                          ...   \n",
      "2145           0       5                      0                            0   \n",
      "1227           0      10                      0                            0   \n",
      "548            1      32                      0                            0   \n",
      "2303           1      23                      0                            0   \n",
      "3056           1      15                      0                            0   \n",
      "\n",
      "      is_collection_manipulation  is_string_manipulation  is_bit_manipulation  \\\n",
      "2458                           0                       0                    0   \n",
      "1115                           0                       0                    0   \n",
      "1299                           0                       0                    0   \n",
      "1443                           0                       0                    0   \n",
      "1666                           0                       0                    0   \n",
      "...                          ...                     ...                  ...   \n",
      "2145                           0                       0                    0   \n",
      "1227                           0                       0                    0   \n",
      "548                            0                       0                    0   \n",
      "2303                           0                       0                    0   \n",
      "3056                           0                       0                    0   \n",
      "\n",
      "      is_variable_assignment  \n",
      "2458                       1  \n",
      "1115                       0  \n",
      "1299                       0  \n",
      "1443                       0  \n",
      "1666                       1  \n",
      "...                      ...  \n",
      "2145                       1  \n",
      "1227                       1  \n",
      "548                        0  \n",
      "2303                       0  \n",
      "3056                       0  \n",
      "\n",
      "[697 rows x 8 columns]\n"
     ]
    }
   ],
   "source": [
    "pd_y_test = pd.DataFrame(y_test)\n",
    "print(pd_y_test)\n",
    "pd_X_test = pd.DataFrame(X_test)\n",
    "print(pd_X_test)"
   ]
  },
  {
   "cell_type": "code",
   "execution_count": 136,
   "metadata": {},
   "outputs": [
    {
     "name": "stdout",
     "output_type": "stream",
     "text": [
      "      is_keyword  length  is_regular_expression  is_mathematical_calculation  \\\n",
      "692            1      69                      1                            1   \n",
      "2544           0       8                      0                            0   \n",
      "3126           0      27                      0                            1   \n",
      "1627           0      20                      0                            1   \n",
      "502            0      43                      1                            1   \n",
      "1310           0      21                      0                            0   \n",
      "167            0       1                      0                            0   \n",
      "2395           0       1                      0                            0   \n",
      "3247           0      17                      0                            0   \n",
      "1692           0      30                      0                            1   \n",
      "1428           0      63                      0                            0   \n",
      "394            0      72                      1                            1   \n",
      "2169           0      39                      0                            1   \n",
      "1262           1      34                      0                            0   \n",
      "2329           0      63                      0                            1   \n",
      "443            1      95                      1                            0   \n",
      "2068           0      32                      1                            0   \n",
      "1377           0      19                      0                            0   \n",
      "424            1      35                      1                            0   \n",
      "3481           0      46                      0                            0   \n",
      "150            0      31                      1                            0   \n",
      "1778           0      21                      0                            0   \n",
      "1980           1      74                      0                            0   \n",
      "529            0      75                      1                            1   \n",
      "\n",
      "      is_collection_manipulation  is_string_manipulation  is_bit_manipulation  \\\n",
      "692                            0                       0                    1   \n",
      "2544                           0                       0                    0   \n",
      "3126                           0                       0                    0   \n",
      "1627                           0                       0                    0   \n",
      "502                            0                       0                    1   \n",
      "1310                           0                       0                    0   \n",
      "167                            0                       0                    0   \n",
      "2395                           0                       0                    0   \n",
      "3247                           0                       0                    0   \n",
      "1692                           0                       1                    0   \n",
      "1428                           0                       0                    0   \n",
      "394                            0                       0                    0   \n",
      "2169                           0                       0                    1   \n",
      "1262                           0                       1                    0   \n",
      "2329                           0                       0                    1   \n",
      "443                            1                       0                    0   \n",
      "2068                           0                       0                    0   \n",
      "1377                           0                       0                    0   \n",
      "424                            0                       0                    0   \n",
      "3481                           0                       0                    0   \n",
      "150                            0                       0                    0   \n",
      "1778                           0                       1                    0   \n",
      "1980                           0                       0                    0   \n",
      "529                            0                       0                    1   \n",
      "\n",
      "      is_variable_assignment  \n",
      "692                        1  \n",
      "2544                       1  \n",
      "3126                       1  \n",
      "1627                       1  \n",
      "502                        1  \n",
      "1310                       1  \n",
      "167                        0  \n",
      "2395                       0  \n",
      "3247                       1  \n",
      "1692                       1  \n",
      "1428                       1  \n",
      "394                        1  \n",
      "2169                       1  \n",
      "1262                       1  \n",
      "2329                       1  \n",
      "443                        0  \n",
      "2068                       1  \n",
      "1377                       1  \n",
      "424                        1  \n",
      "3481                       1  \n",
      "150                        1  \n",
      "1778                       1  \n",
      "1980                       1  \n",
      "529                        1  \n"
     ]
    }
   ],
   "source": [
    "y_test_idxs = pd_y_test.loc[pd_y_test[\"isLOI\"] == 1].index\n",
    "# print(y_test_idxs)\n",
    "# print(pd_X_test.loc[])\n",
    "# for idx in y_test_idxs:\n",
    "#     print(pd_X_test.loc[idx])\n",
    "\n",
    "    # x_test_after.append(pd_X_test.loc[idx])\n",
    "\n",
    "is_keyword = pd_X_test.loc[y_test_idxs][\"is_keyword\"]\n",
    "length = pd_X_test.loc[y_test_idxs][\"length\"]\n",
    "is_regular_expression = pd_X_test.loc[y_test_idxs][\"is_regular_expression\"]\n",
    "is_mathematical_calculation = pd_X_test.loc[y_test_idxs][\"is_mathematical_calculation\"]\n",
    "is_collection_manipulation = pd_X_test.loc[y_test_idxs][\"is_collection_manipulation\"]\n",
    "is_string_manipulation = pd_X_test.loc[y_test_idxs][\"is_string_manipulation\"]\n",
    "is_bit_manipulation = pd_X_test.loc[y_test_idxs][\"is_bit_manipulation\"]\n",
    "is_variable_assignment = pd_X_test.loc[y_test_idxs][\"is_variable_assignment\"]\n",
    "# line_number\",\"line\",\"is_keyword\",\"length\",\"is_regular_expression\",\"is_mathematical_calculation\",\"is_collection_manipulation\",\"is_string_manipulation\",\"is_bit_manipulation\",\"is_variable_assignment\"\n",
    "x_test_after = pd.concat([is_keyword, length, is_regular_expression, is_mathematical_calculation, is_collection_manipulation, is_string_manipulation, is_bit_manipulation, is_variable_assignment], axis=1)\n",
    "\n",
    "print(x_test_after)"
   ]
  },
  {
   "cell_type": "code",
   "execution_count": 138,
   "metadata": {},
   "outputs": [
    {
     "name": "stdout",
     "output_type": "stream",
     "text": [
      "[0 0 0 0 0 0 0 0 0 0 0 1 0 1 1 0 0 0 0 0 0 0 0 1]\n",
      "2458    0\n",
      "1115    0\n",
      "1299    0\n",
      "1443    0\n",
      "1666    0\n",
      "       ..\n",
      "2145    0\n",
      "1227    0\n",
      "548     0\n",
      "2303    0\n",
      "3056    0\n",
      "Name: isLOI, Length: 697, dtype: int64\n"
     ]
    }
   ],
   "source": [
    "test_preds = clf.predict(x_test_after)\n",
    "print(test_preds)\n",
    "print(y_test)"
   ]
  },
  {
   "cell_type": "code",
   "execution_count": 2,
   "metadata": {},
   "outputs": [],
   "source": [
    "def is_var_ass(line):\n",
    "    if line.count('=') == 1:\n",
    "        return 1\n",
    "    else: \n",
    "        return 0"
   ]
  },
  {
   "cell_type": "code",
   "execution_count": 54,
   "metadata": {},
   "outputs": [],
   "source": [
    "import re\n",
    "\n",
    "def is_var_ass_2(line): # add this to \"find_features.py\" # but test a little more\n",
    "    if(\"=\" not in line):\n",
    "        return 0\n",
    "    x = re.match(r\"[\\[]*[a-zA-Z_0-9]+(.[a-zA-Z_0-9]+)*( )*[*/+-]?=[ +-]*[a-zA-Z_0-9]+\", line)\n",
    "    if x:\n",
    "        print(x)\n",
    "        return 1\n",
    "    else: \n",
    "        return 0"
   ]
  },
  {
   "cell_type": "code",
   "execution_count": 57,
   "metadata": {},
   "outputs": [
    {
     "data": {
      "text/plain": [
       "0"
      ]
     },
     "execution_count": 57,
     "metadata": {},
     "output_type": "execute_result"
    }
   ],
   "source": [
    "is_var_ass_2(\"\")"
   ]
  },
  {
   "cell_type": "code",
   "execution_count": 9,
   "metadata": {},
   "outputs": [
    {
     "name": "stdout",
     "output_type": "stream",
     "text": [
      "<re.Match object; span=(0, 9), match='x = +None'>\n"
     ]
    },
    {
     "data": {
      "text/plain": [
       "1"
      ]
     },
     "execution_count": 9,
     "metadata": {},
     "output_type": "execute_result"
    }
   ],
   "source": [
    "is_var_ass_2(\"x = +None\")"
   ]
  },
  {
   "cell_type": "code",
   "execution_count": 41,
   "metadata": {},
   "outputs": [
    {
     "data": {
      "text/plain": [
       "[9]"
      ]
     },
     "execution_count": 41,
     "metadata": {},
     "output_type": "execute_result"
    }
   ],
   "source": [
    "x = 9\n",
    "[x]"
   ]
  }
 ],
 "metadata": {
  "kernelspec": {
   "display_name": "Python 3",
   "language": "python",
   "name": "python3"
  },
  "language_info": {
   "codemirror_mode": {
    "name": "ipython",
    "version": 3
   },
   "file_extension": ".py",
   "mimetype": "text/x-python",
   "name": "python",
   "nbconvert_exporter": "python",
   "pygments_lexer": "ipython3",
   "version": "3.8.10"
  },
  "orig_nbformat": 4
 },
 "nbformat": 4,
 "nbformat_minor": 2
}
