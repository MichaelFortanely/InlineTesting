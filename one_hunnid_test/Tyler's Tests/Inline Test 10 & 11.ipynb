{
 "cells": [
  {
   "cell_type": "code",
   "execution_count": 4,
   "id": "68851d12",
   "metadata": {},
   "outputs": [
    {
     "data": {
      "text/plain": [
       "<inline.Here at 0x1432af3e940>"
      ]
     },
     "execution_count": 4,
     "metadata": {},
     "output_type": "execute_result"
    }
   ],
   "source": [
    "import sys\n",
    "from inline import Here\n",
    "\n",
    "#Source: NeetCode(3Sum)\n",
    "#Classification: Two-Pointer\n",
    "\n",
    "#Example Case\n",
    "ex = [-1, -1, 2]\n",
    "\n",
    "class sol:\n",
    "    def threeSum(self, nums: list[int]) -> list[list[int]]:\n",
    "        res = []\n",
    "        nums.sort()\n",
    "\n",
    "        for i, a in enumerate(nums):\n",
    "            # Skip positive integers\n",
    "            if a > 0:\n",
    "                break\n",
    "\n",
    "            if i > 0 and a == nums[i - 1]:\n",
    "                continue\n",
    "\n",
    "            l, r = i + 1, len(nums) - 1\n",
    "            while l < r:\n",
    "                threeSum = a + nums[l] + nums[r]\n",
    "                if threeSum > 0:\n",
    "                    r -= 1\n",
    "                elif threeSum < 0:\n",
    "                    l += 1\n",
    "                else:\n",
    "                    res.append([a, nums[l], nums[r]])\n",
    "                    check = a + nums[l] + nums[r]\n",
    "                    Here().given(a, -1).given(nums, [-1, 2]).given(l, 0).given(r, 1).check_true(check == 0)\n",
    "                    l += 1\n",
    "                    r -= 1\n",
    "                    while nums[l] == nums[l - 1] and l < r:\n",
    "                        l += 1\n",
    "        return res\n",
    "\n",
    "obj = sol()\n",
    "trio = obj.threeSum(ex)\n",
    "Here().given(ex, [1]).check_eq(trio, [])\n",
    "print(trio)"
   ]
  },
  {
   "cell_type": "code",
   "execution_count": null,
   "id": "055ebabd",
   "metadata": {},
   "outputs": [],
   "source": []
  }
 ],
 "metadata": {
  "kernelspec": {
   "display_name": "Python 3 (ipykernel)",
   "language": "python",
   "name": "python3"
  },
  "language_info": {
   "codemirror_mode": {
    "name": "ipython",
    "version": 3
   },
   "file_extension": ".py",
   "mimetype": "text/x-python",
   "name": "python",
   "nbconvert_exporter": "python",
   "pygments_lexer": "ipython3",
   "version": "3.9.13"
  }
 },
 "nbformat": 4,
 "nbformat_minor": 5
}
