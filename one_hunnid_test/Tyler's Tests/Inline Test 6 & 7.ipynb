{
 "cells": [
  {
   "cell_type": "code",
   "execution_count": 4,
   "id": "dd0cc008",
   "metadata": {},
   "outputs": [
    {
     "name": "stdout",
     "output_type": "stream",
     "text": [
      "False\n"
     ]
    }
   ],
   "source": [
    "import sys\n",
    "from inline import Here\n",
    "\n",
    "#Source: NeetCode(JumpGame)\n",
    "#Classification: Greedy\n",
    "\n",
    "example = [1, 2, 0, 0, 3]\n",
    "example2 = [1, 3, 0, 0, 3]\n",
    "\n",
    "class JumpGame:\n",
    "    def canJump(self, nums: list[int]) -> bool:\n",
    "        goal = len(nums) - 1\n",
    "\n",
    "        for i in range(len(nums) - 2, -1, -1):\n",
    "            if i + nums[i] >= goal:\n",
    "                goal = i\n",
    "        return goal == 0\n",
    "    \n",
    "Jumper = JumpGame()\n",
    "Boolean = Jumper.canJump(example)\n",
    "Here().given(example, [1, 2, 3]).check_eq(Boolean, True)\n",
    "\n",
    "Boolean = Jumper.canJump(example2)\n",
    "Here().given(example, [1, 3]).check_true(Jumper.canJump(example2) == Boolean)\n",
    "\n",
    "print(Boolean)"
   ]
  },
  {
   "cell_type": "code",
   "execution_count": null,
   "id": "1f80d455",
   "metadata": {},
   "outputs": [],
   "source": []
  }
 ],
 "metadata": {
  "kernelspec": {
   "display_name": "Python 3 (ipykernel)",
   "language": "python",
   "name": "python3"
  },
  "language_info": {
   "codemirror_mode": {
    "name": "ipython",
    "version": 3
   },
   "file_extension": ".py",
   "mimetype": "text/x-python",
   "name": "python",
   "nbconvert_exporter": "python",
   "pygments_lexer": "ipython3",
   "version": "3.9.13"
  }
 },
 "nbformat": 4,
 "nbformat_minor": 5
}
