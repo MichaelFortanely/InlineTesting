{
 "cells": [
  {
   "cell_type": "code",
   "execution_count": 6,
   "id": "c90c7ecb",
   "metadata": {},
   "outputs": [
    {
     "data": {
      "text/plain": [
       "<inline.Here at 0x130b3b3e880>"
      ]
     },
     "execution_count": 6,
     "metadata": {},
     "output_type": "execute_result"
    }
   ],
   "source": [
    "import sys\n",
    "from inline import Here\n",
    "\n",
    "#Source: NeetCode(Sum of Two Integers)\n",
    "#Classfication: Bit Manipulation\n",
    "\n",
    "#Example Case\n",
    "a = 4\n",
    "b = -6\n",
    "\n",
    "class Combining:\n",
    "    def getSum(self, a: int, b: int) -> int:\n",
    "        def add(a, b):\n",
    "            if not a or not b:\n",
    "                return a or b\n",
    "            return add(a ^ b, (a & b) << 1)\n",
    "\n",
    "        if a * b < 0:  # assume a < 0, b > 0\n",
    "            if a > 0:\n",
    "                positive = self.getSum(b, a)\n",
    "                return positive\n",
    "            if add(~a, 1) == b:  # -a == b\n",
    "                zero = 0\n",
    "                Here().given(a, -1).given(b, 1).check_true(a + b == zero)\n",
    "                return 0\n",
    "            if add(~a, 1) < b:  # -a < b\n",
    "                return add(~add(add(~a, 1), add(~b, 1)), 1)  # -add(-a, -b)\n",
    "               \n",
    "                \n",
    "        return add(a, b)  # a*b >= 0 or (-a) > b > 0\n",
    "    \n",
    "combine = Combining()\n",
    "c = combine.getSum(a, b)\n",
    "Here().given(a, -1).given(b, 4).check_eq(c, 3)"
   ]
  },
  {
   "cell_type": "code",
   "execution_count": null,
   "id": "3f1d8b98",
   "metadata": {},
   "outputs": [],
   "source": []
  }
 ],
 "metadata": {
  "kernelspec": {
   "display_name": "Python 3 (ipykernel)",
   "language": "python",
   "name": "python3"
  },
  "language_info": {
   "codemirror_mode": {
    "name": "ipython",
    "version": 3
   },
   "file_extension": ".py",
   "mimetype": "text/x-python",
   "name": "python",
   "nbconvert_exporter": "python",
   "pygments_lexer": "ipython3",
   "version": "3.9.13"
  }
 },
 "nbformat": 4,
 "nbformat_minor": 5
}
