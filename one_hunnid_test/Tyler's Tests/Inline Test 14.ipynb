{
 "cells": [
  {
   "cell_type": "code",
   "execution_count": 7,
   "id": "823c62c9",
   "metadata": {},
   "outputs": [
    {
     "data": {
      "text/plain": [
       "<inline.Here at 0x21efa981e50>"
      ]
     },
     "execution_count": 7,
     "metadata": {},
     "output_type": "execute_result"
    }
   ],
   "source": [
    "import math\n",
    "import sys\n",
    "from inline import Here\n",
    "\n",
    "#Source: NeetCode(Koko Eating Bananas)\n",
    "#Classification: Binary Search\n",
    "\n",
    "#Example Case:\n",
    "case = [2, 3, 7, 11]\n",
    "\n",
    "class bananas:\n",
    "    def minEatingSpeed(self, piles: list[int], h: int) -> int:\n",
    "        l, r = 1, max(piles)\n",
    "        res = max(piles)\n",
    "\n",
    "        while l <= r:\n",
    "            k = (l + r) // 2\n",
    "\n",
    "            totalTime = 0\n",
    "            for p in piles:\n",
    "                totalTime += math.ceil(p / k)\n",
    "            if totalTime <= h:\n",
    "                res = min(res, k)\n",
    "                r = k - 1\n",
    "            else:\n",
    "                l = k + 1\n",
    "        return res\n",
    "    \n",
    "solution = bananas()\n",
    "time = 8\n",
    "rate = solution.minEatingSpeed(case, time)\n",
    "Here().given(case, [3, 6, 9, 12]).given(time, 6).check_eq(rate, 6)"
   ]
  },
  {
   "cell_type": "code",
   "execution_count": null,
   "id": "7cd33d3b",
   "metadata": {},
   "outputs": [],
   "source": []
  }
 ],
 "metadata": {
  "kernelspec": {
   "display_name": "Python 3 (ipykernel)",
   "language": "python",
   "name": "python3"
  },
  "language_info": {
   "codemirror_mode": {
    "name": "ipython",
    "version": 3
   },
   "file_extension": ".py",
   "mimetype": "text/x-python",
   "name": "python",
   "nbconvert_exporter": "python",
   "pygments_lexer": "ipython3",
   "version": "3.9.13"
  }
 },
 "nbformat": 4,
 "nbformat_minor": 5
}
