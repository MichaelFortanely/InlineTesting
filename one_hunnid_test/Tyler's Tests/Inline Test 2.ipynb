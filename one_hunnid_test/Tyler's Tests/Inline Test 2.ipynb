{
 "cells": [
  {
   "cell_type": "code",
   "execution_count": null,
   "id": "cfbfe425",
   "metadata": {},
   "outputs": [],
   "source": [
    "import sys\n",
    "from inline import Here\n",
    "\n",
    "#Source: NeetCode (Valid Parenthesis Problem)\n",
    "#Classification: Stack\n",
    "\n",
    "#Example Case\n",
    "brackets = \"[][][][[[]]]{}}\"\n",
    "\n",
    "class Valid_Parenthesis:\n",
    "    def isValid(self, s: str) -> bool:\n",
    "        Map = {\")\": \"(\", \"]\": \"[\", \"}\": \"{\"}\n",
    "        stack = []\n",
    "\n",
    "        for c in s:\n",
    "            if c not in Map:\n",
    "                stack.append(c)\n",
    "                continue\n",
    "            if not stack or stack[-1] != Map[c]:\n",
    "                return False\n",
    "            stack.pop()\n",
    "\n",
    "        return not stack\n",
    "\n",
    "valid_parenthesis = Valid_Parenthesis()\n",
    "answer = valid_parenthesis.isValid(brackets)\n",
    "Here().given(brackets, '[[]][]{}()').check_eq(answer, True)"
   ]
  }
 ],
 "metadata": {
  "kernelspec": {
   "display_name": "Python [conda env:root] *",
   "language": "python",
   "name": "conda-root-py"
  },
  "language_info": {
   "codemirror_mode": {
    "name": "ipython",
    "version": 3
   },
   "file_extension": ".py",
   "mimetype": "text/x-python",
   "name": "python",
   "nbconvert_exporter": "python",
   "pygments_lexer": "ipython3",
   "version": "3.9.13"
  }
 },
 "nbformat": 4,
 "nbformat_minor": 5
}
