{
 "cells": [
  {
   "cell_type": "code",
   "execution_count": 1,
   "id": "f9f6df05",
   "metadata": {},
   "outputs": [
    {
     "ename": "AttributeError",
     "evalue": "'Here' object has no attribute 'checkeq'",
     "output_type": "error",
     "traceback": [
      "\u001b[1;31m---------------------------------------------------------------------------\u001b[0m",
      "\u001b[1;31mAttributeError\u001b[0m                            Traceback (most recent call last)",
      "\u001b[1;32m~\\AppData\\Local\\Temp\\ipykernel_14176\\1961525087.py\u001b[0m in \u001b[0;36m<module>\u001b[1;34m\u001b[0m\n\u001b[0;32m     36\u001b[0m \u001b[0mr\u001b[0m \u001b[1;33m=\u001b[0m \u001b[0mroot\u001b[0m\u001b[1;33m\u001b[0m\u001b[1;33m\u001b[0m\u001b[0m\n\u001b[0;32m     37\u001b[0m \u001b[0manswer\u001b[0m \u001b[1;33m=\u001b[0m \u001b[0msolution\u001b[0m\u001b[1;33m.\u001b[0m\u001b[0mkthSmallest\u001b[0m\u001b[1;33m(\u001b[0m\u001b[0mr\u001b[0m\u001b[1;33m,\u001b[0m \u001b[1;36m1\u001b[0m\u001b[1;33m)\u001b[0m\u001b[1;33m\u001b[0m\u001b[1;33m\u001b[0m\u001b[0m\n\u001b[1;32m---> 38\u001b[1;33m \u001b[0mHere\u001b[0m\u001b[1;33m(\u001b[0m\u001b[1;33m)\u001b[0m\u001b[1;33m.\u001b[0m\u001b[0mgiven\u001b[0m\u001b[1;33m(\u001b[0m\u001b[0mr\u001b[0m\u001b[1;33m,\u001b[0m \u001b[0mroot\u001b[0m\u001b[1;33m)\u001b[0m\u001b[1;33m.\u001b[0m\u001b[0mcheckeq\u001b[0m\u001b[1;33m(\u001b[0m\u001b[0manswer\u001b[0m\u001b[1;33m,\u001b[0m \u001b[1;36m5\u001b[0m\u001b[1;33m)\u001b[0m\u001b[1;33m\u001b[0m\u001b[1;33m\u001b[0m\u001b[0m\n\u001b[0m",
      "\u001b[1;31mAttributeError\u001b[0m: 'Here' object has no attribute 'checkeq'"
     ]
    }
   ],
   "source": [
    "import sys\n",
    "from inline import Here\n",
    "\n",
    "#Source: NeetCode (kth Smallest element in BST)\n",
    "#Classification: Trees\n",
    "\n",
    "#Definition for a binary tree node.\n",
    "class TreeNode:\n",
    "    def __init__(self, x):\n",
    "        self.val = x\n",
    "        self.left = None\n",
    "        self.right = None\n",
    "\n",
    "#Example Case\n",
    "root = TreeNode(5)\n",
    "root.left = TreeNode(10)\n",
    "root.right = TreeNode(15)\n",
    "        \n",
    "class Solution:\n",
    "    def kthSmallest(self, root: TreeNode, k: int) -> int:\n",
    "        stack = []\n",
    "        curr = root\n",
    "        Here().given(root, TreeNode(5)).check_eq(curr, root)\n",
    "\n",
    "        while stack or curr:\n",
    "            while curr:\n",
    "                stack.append(curr)\n",
    "                curr = curr.left\n",
    "            curr = stack.pop()\n",
    "            k -= 1\n",
    "            if k == 0:\n",
    "                return curr.val\n",
    "            prev_val = curr.val\n",
    "            curr = curr.right\n",
    "            Here().given(curr, TreeNode(5)).given(curr.right, TreeNode(3)).check_eq(curr.val, 3)\n",
    "\n",
    "solution = Solution()\n",
    "r = root\n",
    "answer = solution.kthSmallest(r, 1)\n",
    "Here().given(r, root).check_eq(answer, 10)"
   ]
  },
  {
   "cell_type": "code",
   "execution_count": null,
   "id": "07359b69",
   "metadata": {},
   "outputs": [],
   "source": []
  }
 ],
 "metadata": {
  "kernelspec": {
   "display_name": "Python 3 (ipykernel)",
   "language": "python",
   "name": "python3"
  },
  "language_info": {
   "codemirror_mode": {
    "name": "ipython",
    "version": 3
   },
   "file_extension": ".py",
   "mimetype": "text/x-python",
   "name": "python",
   "nbconvert_exporter": "python",
   "pygments_lexer": "ipython3",
   "version": "3.9.13"
  }
 },
 "nbformat": 4,
 "nbformat_minor": 5
}
